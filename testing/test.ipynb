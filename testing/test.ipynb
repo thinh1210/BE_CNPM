{
 "cells": [
  {
   "cell_type": "code",
   "execution_count": 1,
   "metadata": {},
   "outputs": [
    {
     "name": "stdout",
     "output_type": "stream",
     "text": [
      "2025-03-30 16:07:52,712 INFO sqlalchemy.engine.Engine SELECT DATABASE()\n",
      "2025-03-30 16:07:52,712 INFO sqlalchemy.engine.Engine [raw sql] {}\n",
      "2025-03-30 16:07:52,722 INFO sqlalchemy.engine.Engine SELECT @@sql_mode\n",
      "2025-03-30 16:07:52,722 INFO sqlalchemy.engine.Engine [raw sql] {}\n",
      "2025-03-30 16:07:52,722 INFO sqlalchemy.engine.Engine SELECT @@lower_case_table_names\n",
      "2025-03-30 16:07:52,722 INFO sqlalchemy.engine.Engine [raw sql] {}\n",
      "2025-03-30 16:07:52,728 INFO sqlalchemy.engine.Engine BEGIN (implicit)\n",
      "✅ Kết nối MySQL thành công!\n",
      "2025-03-30 16:07:52,728 INFO sqlalchemy.engine.Engine ROLLBACK\n"
     ]
    }
   ],
   "source": [
    "from sqlalchemy import create_engine\n",
    "from sqlalchemy.orm import sessionmaker\n",
    "import os\n",
    "\n",
    "# Cấu hình database\n",
    "DB_USER = \"root\"  # Thay bằng username của bạn\n",
    "DB_PASSWORD = \"12102004\"  # Thay bằng password của bạn\n",
    "DB_HOST = \"localhost\"  # Hoặc địa chỉ IP của server MySQL\n",
    "DB_PORT = 3306  # Cổng mặc định của MySQL\n",
    "DB_NAME = \"name_table\"  # Thay bằng tên database của bạn\n",
    "# Tạo URL kết nối MySQL\n",
    "DATABASE_URL = f\"mysql+pymysql://{DB_USER}:{DB_PASSWORD}@{DB_HOST}:{DB_PORT}/{DB_NAME}\"\n",
    "\n",
    "# Tạo engine kết nối\n",
    "engine = create_engine(DATABASE_URL, echo=True)\n",
    "\n",
    "# Tạo session\n",
    "SessionLocal = sessionmaker(bind=engine)\n",
    "\n",
    "def test_connection():\n",
    "    try:\n",
    "        db = SessionLocal()\n",
    "        conn = db.connection()\n",
    "        print(\"✅ Kết nối MySQL thành công!\")\n",
    "        conn.close()\n",
    "    except Exception as e:\n",
    "        print(\"❌ Lỗi kết nối MySQL:\", e)\n",
    "\n",
    "if __name__ == \"__main__\":\n",
    "    test_connection()\n"
   ]
  },
  {
   "cell_type": "code",
   "execution_count": null,
   "metadata": {},
   "outputs": [],
   "source": []
  }
 ],
 "metadata": {
  "kernelspec": {
   "display_name": "Python 3",
   "language": "python",
   "name": "python3"
  },
  "language_info": {
   "codemirror_mode": {
    "name": "ipython",
    "version": 3
   },
   "file_extension": ".py",
   "mimetype": "text/x-python",
   "name": "python",
   "nbconvert_exporter": "python",
   "pygments_lexer": "ipython3",
   "version": "3.12.9"
  }
 },
 "nbformat": 4,
 "nbformat_minor": 2
}
